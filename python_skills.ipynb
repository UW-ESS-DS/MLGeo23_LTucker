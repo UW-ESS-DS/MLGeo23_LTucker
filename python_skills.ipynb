{
 "cells": [
  {
   "cell_type": "code",
   "execution_count": null,
   "id": "79ca830a-c19d-4c3d-a5e6-5072df2965be",
   "metadata": {},
   "outputs": [],
   "source": [
    "# Homework 1, part 2, Python skills"
   ]
  },
  {
   "cell_type": "code",
   "execution_count": 3,
   "id": "6094260e-517e-475e-9d2f-04a48d570a47",
   "metadata": {
    "tags": []
   },
   "outputs": [],
   "source": [
    "import numpy"
   ]
  },
  {
   "cell_type": "code",
   "execution_count": 4,
   "id": "ddc4dd48-4273-486f-af48-57b33f094347",
   "metadata": {},
   "outputs": [
    {
     "name": "stdout",
     "output_type": "stream",
     "text": [
      "[1, 2, 3, 5, 7, 11]\n"
     ]
    }
   ],
   "source": [
    "#here is a list\n",
    "primes = [1, 2, 3, 5, 7, 11]\n",
    "print(primes)"
   ]
  },
  {
   "cell_type": "code",
   "execution_count": 5,
   "id": "9db5de15-55bd-4d65-90dd-3b94446c5d26",
   "metadata": {},
   "outputs": [],
   "source": [
    "# copy of portions of software carpentry python basics lesson to show basic python skills"
   ]
  },
  {
   "cell_type": "code",
   "execution_count": 9,
   "id": "bca5f0d5-7744-4bcd-a83b-97f9a52ec8b9",
   "metadata": {},
   "outputs": [],
   "source": [
    "data = numpy.loadtxt(fname = 'inflammation-01.csv', delimiter=',')"
   ]
  },
  {
   "cell_type": "code",
   "execution_count": 10,
   "id": "48b17880-d840-418f-aa28-9f7610fbd23b",
   "metadata": {},
   "outputs": [
    {
     "name": "stdout",
     "output_type": "stream",
     "text": [
      "[[0. 0. 1. ... 3. 0. 0.]\n",
      " [0. 1. 2. ... 1. 0. 1.]\n",
      " [0. 1. 1. ... 2. 1. 1.]\n",
      " ...\n",
      " [0. 1. 1. ... 1. 1. 1.]\n",
      " [0. 0. 0. ... 0. 2. 0.]\n",
      " [0. 0. 1. ... 1. 1. 0.]]\n"
     ]
    }
   ],
   "source": [
    "print(data)"
   ]
  },
  {
   "cell_type": "code",
   "execution_count": 11,
   "id": "413fd968-607e-4abb-b675-2bd0e7c4ad12",
   "metadata": {},
   "outputs": [
    {
     "name": "stdout",
     "output_type": "stream",
     "text": [
      "<class 'numpy.ndarray'>\n"
     ]
    }
   ],
   "source": [
    "print(type(data))"
   ]
  },
  {
   "cell_type": "code",
   "execution_count": 12,
   "id": "54b16f66-3566-49cc-92f2-a7721339a5b0",
   "metadata": {},
   "outputs": [
    {
     "name": "stdout",
     "output_type": "stream",
     "text": [
      "float64\n"
     ]
    }
   ],
   "source": [
    "print(data.dtype)"
   ]
  },
  {
   "cell_type": "code",
   "execution_count": 13,
   "id": "1551b05a-879d-4a17-96c0-9ec36dac93db",
   "metadata": {},
   "outputs": [
    {
     "name": "stdout",
     "output_type": "stream",
     "text": [
      "(60, 40)\n"
     ]
    }
   ],
   "source": [
    "print(data.shape)"
   ]
  },
  {
   "cell_type": "code",
   "execution_count": 14,
   "id": "300792be-46b6-41d7-b034-900044f7bae2",
   "metadata": {},
   "outputs": [
    {
     "name": "stdout",
     "output_type": "stream",
     "text": [
      "first value in data: 0.0\n"
     ]
    }
   ],
   "source": [
    "print('first value in data:', data[0,0])"
   ]
  },
  {
   "cell_type": "code",
   "execution_count": 15,
   "id": "94feb265-1fc1-494c-87da-d9bb686356ee",
   "metadata": {},
   "outputs": [
    {
     "name": "stdout",
     "output_type": "stream",
     "text": [
      "middle value in data: 16.0\n"
     ]
    }
   ],
   "source": [
    "print('middle value in data:', data[29,19])"
   ]
  },
  {
   "cell_type": "code",
   "execution_count": 16,
   "id": "07c25787-1742-4996-a947-aea97bbc8e75",
   "metadata": {},
   "outputs": [
    {
     "name": "stdout",
     "output_type": "stream",
     "text": [
      "[[0. 0. 1. 3. 1. 2. 4. 7. 8. 3.]\n",
      " [0. 1. 2. 1. 2. 1. 3. 2. 2. 6.]\n",
      " [0. 1. 1. 3. 3. 2. 6. 2. 5. 9.]\n",
      " [0. 0. 2. 0. 4. 2. 2. 1. 6. 7.]]\n"
     ]
    }
   ],
   "source": [
    "print(data[0:4 ,0:10])"
   ]
  },
  {
   "cell_type": "code",
   "execution_count": 17,
   "id": "9e457b94-195e-4ec2-81b0-73d1cc8caa13",
   "metadata": {},
   "outputs": [
    {
     "name": "stdout",
     "output_type": "stream",
     "text": [
      "[[0. 0. 1. 2. 2. 4. 2. 1. 6. 4.]\n",
      " [0. 0. 2. 2. 4. 2. 2. 5. 5. 8.]\n",
      " [0. 0. 1. 2. 3. 1. 2. 3. 5. 3.]\n",
      " [0. 0. 0. 3. 1. 5. 6. 5. 5. 8.]\n",
      " [0. 1. 1. 2. 1. 3. 5. 3. 5. 8.]]\n"
     ]
    }
   ],
   "source": [
    "print(data[5:10 ,0:10])"
   ]
  },
  {
   "cell_type": "code",
   "execution_count": 18,
   "id": "1918e14a-92ee-4c34-83a7-3a2554354f95",
   "metadata": {},
   "outputs": [
    {
     "name": "stdout",
     "output_type": "stream",
     "text": [
      "small is:\n",
      "[[2. 3. 0. 0.]\n",
      " [1. 1. 0. 1.]\n",
      " [2. 2. 1. 1.]]\n"
     ]
    }
   ],
   "source": [
    "small = data[:3,36:]\n",
    "print('small is:')\n",
    "print(small)"
   ]
  },
  {
   "cell_type": "code",
   "execution_count": 19,
   "id": "0df5b050-882f-4ce4-ac7b-bed7d32f1eda",
   "metadata": {},
   "outputs": [
    {
     "name": "stdout",
     "output_type": "stream",
     "text": [
      "6.14875\n"
     ]
    }
   ],
   "source": [
    "print(numpy.mean(data))"
   ]
  },
  {
   "cell_type": "code",
   "execution_count": 21,
   "id": "aa4d7cd9-222d-4a89-861c-bcacb41b2d65",
   "metadata": {},
   "outputs": [
    {
     "name": "stdout",
     "output_type": "stream",
     "text": [
      "maximum inflammation: 20.0\n",
      "minimum inflammation: 0.0\n",
      "standard deviation: 4.613833197118566\n"
     ]
    }
   ],
   "source": [
    "maxval, minval, stdval = numpy.amax(data), numpy.amin(data), numpy.std(data)\n",
    "\n",
    "print('maximum inflammation:', maxval)\n",
    "print('minimum inflammation:', minval)\n",
    "print('standard deviation:', stdval)"
   ]
  },
  {
   "cell_type": "code",
   "execution_count": 22,
   "id": "243f53e8-c0d7-4ab0-8747-de4133d53851",
   "metadata": {},
   "outputs": [
    {
     "data": {
      "text/plain": [
       "\u001b[0;31mSignature:\u001b[0m \u001b[0mnumpy\u001b[0m\u001b[0;34m.\u001b[0m\u001b[0malltrue\u001b[0m\u001b[0;34m(\u001b[0m\u001b[0;34m*\u001b[0m\u001b[0margs\u001b[0m\u001b[0;34m,\u001b[0m \u001b[0;34m**\u001b[0m\u001b[0mkwargs\u001b[0m\u001b[0;34m)\u001b[0m\u001b[0;34m\u001b[0m\u001b[0;34m\u001b[0m\u001b[0m\n",
       "\u001b[0;31mDocstring:\u001b[0m\n",
       "Check if all elements of input array are true.\n",
       "\n",
       "See Also\n",
       "--------\n",
       "numpy.all : Equivalent function; see for details.\n",
       "\u001b[0;31mFile:\u001b[0m      /srv/conda/envs/notebook/lib/python3.8/site-packages/numpy/core/fromnumeric.py\n",
       "\u001b[0;31mType:\u001b[0m      function\n"
      ]
     },
     "metadata": {},
     "output_type": "display_data"
    }
   ],
   "source": [
    "numpy.alltrue?"
   ]
  },
  {
   "cell_type": "code",
   "execution_count": 23,
   "id": "4acb9ec0-3b73-4304-93a4-1b3518ad90f7",
   "metadata": {},
   "outputs": [
    {
     "name": "stdout",
     "output_type": "stream",
     "text": [
      "maximum inflammation for patient 0: 18.0\n"
     ]
    }
   ],
   "source": [
    "patient_0 = data[0, :] # only the first row (0) and all data in that row (0:end = :)\n",
    "print('maximum inflammation for patient 0:', numpy.amax(patient_0))"
   ]
  },
  {
   "cell_type": "code",
   "execution_count": 24,
   "id": "cb5e4cba-3e59-4095-835f-8e37ad878a79",
   "metadata": {},
   "outputs": [
    {
     "name": "stdout",
     "output_type": "stream",
     "text": [
      "maximum inflammation for patient 2: 19.0\n"
     ]
    }
   ],
   "source": [
    "print('maximum inflammation for patient 2:', numpy.amax(data[2, :]))"
   ]
  },
  {
   "cell_type": "code",
   "execution_count": 25,
   "id": "a8e28b80-e938-4670-9e7c-13f9d08ed104",
   "metadata": {},
   "outputs": [
    {
     "name": "stdout",
     "output_type": "stream",
     "text": [
      "[[2. 3. 0. 0.]\n",
      " [1. 1. 0. 1.]\n",
      " [2. 2. 1. 1.]]\n"
     ]
    }
   ],
   "source": [
    "print(small)"
   ]
  },
  {
   "cell_type": "code",
   "execution_count": 26,
   "id": "412b9881-bdab-4ee1-9ff2-9ae59d4dec04",
   "metadata": {},
   "outputs": [
    {
     "name": "stdout",
     "output_type": "stream",
     "text": [
      "[ 0.          0.45        1.11666667  1.75        2.43333333  3.15\n",
      "  3.8         3.88333333  5.23333333  5.51666667  5.95        5.9\n",
      "  8.35        7.73333333  8.36666667  9.5         9.58333333 10.63333333\n",
      " 11.56666667 12.35       13.25       11.96666667 11.03333333 10.16666667\n",
      " 10.          8.66666667  9.15        7.25        7.33333333  6.58333333\n",
      "  6.06666667  5.95        5.11666667  3.6         3.3         3.56666667\n",
      "  2.48333333  1.5         1.13333333  0.56666667]\n"
     ]
    }
   ],
   "source": [
    "print(numpy.mean(data, axis=0))"
   ]
  },
  {
   "cell_type": "code",
   "execution_count": 27,
   "id": "11bd08a1-fda9-4255-ab9f-b989cacafff1",
   "metadata": {},
   "outputs": [
    {
     "name": "stdout",
     "output_type": "stream",
     "text": [
      "(40,)\n"
     ]
    }
   ],
   "source": [
    "print(numpy.mean(data, axis=0).shape)"
   ]
  },
  {
   "cell_type": "code",
   "execution_count": 28,
   "id": "ed2bea29-7b81-4e8f-b452-e3de6315699c",
   "metadata": {},
   "outputs": [
    {
     "name": "stdout",
     "output_type": "stream",
     "text": [
      "[5.45  5.425 6.1   5.9   5.55  6.225 5.975 6.65  6.625 6.525 6.775 5.8\n",
      " 6.225 5.75  5.225 6.3   6.55  5.7   5.85  6.55  5.775 5.825 6.175 6.1\n",
      " 5.8   6.425 6.05  6.025 6.175 6.55  6.175 6.35  6.725 6.125 7.075 5.725\n",
      " 5.925 6.15  6.075 5.75  5.975 5.725 6.3   5.9   6.75  5.925 7.225 6.15\n",
      " 5.95  6.275 5.7   6.1   6.825 5.975 6.725 5.7   6.25  6.4   7.05  5.9  ]\n"
     ]
    }
   ],
   "source": [
    "print(numpy.mean(data, axis=1))"
   ]
  },
  {
   "cell_type": "code",
   "execution_count": 29,
   "id": "f5c0e440-8313-4b18-851a-13872c164f18",
   "metadata": {},
   "outputs": [
    {
     "name": "stdout",
     "output_type": "stream",
     "text": [
      "(60,)\n"
     ]
    }
   ],
   "source": [
    "print(numpy.mean(data, axis=1).shape)"
   ]
  },
  {
   "cell_type": "code",
   "execution_count": 30,
   "id": "871a90dd-6637-4277-9435-872e60fedf63",
   "metadata": {},
   "outputs": [
    {
     "name": "stdout",
     "output_type": "stream",
     "text": [
      "first three characters: oxy\n",
      "last three characters: gen\n"
     ]
    }
   ],
   "source": [
    "element = 'oxygen'\n",
    "print('first three characters:', element[0:3])\n",
    "print('last three characters:', element[3:6])"
   ]
  },
  {
   "cell_type": "code",
   "execution_count": 31,
   "id": "d528dbc2-64d7-4248-a0ba-a6f8bede1f3c",
   "metadata": {},
   "outputs": [
    {
     "name": "stdout",
     "output_type": "stream",
     "text": [
      "first four characters: oxyg\n"
     ]
    }
   ],
   "source": [
    "print('first four characters:', element[0:4])"
   ]
  },
  {
   "cell_type": "code",
   "execution_count": 32,
   "id": "a2e92c3e-0c3a-454f-a7ac-2510ffeee611",
   "metadata": {},
   "outputs": [
    {
     "name": "stdout",
     "output_type": "stream",
     "text": [
      "last two characters: en\n"
     ]
    }
   ],
   "source": [
    "print('last two characters:', element[4:])"
   ]
  },
  {
   "cell_type": "code",
   "execution_count": 33,
   "id": "70e3abd1-14df-472c-9c13-0c09ac825c16",
   "metadata": {},
   "outputs": [
    {
     "name": "stdout",
     "output_type": "stream",
     "text": [
      "all characters: oxygen\n"
     ]
    }
   ],
   "source": [
    "print('all characters:', element[:])"
   ]
  },
  {
   "cell_type": "code",
   "execution_count": 34,
   "id": "b6e1c841-aba4-4172-9cb3-6171c91dceed",
   "metadata": {},
   "outputs": [
    {
     "name": "stdout",
     "output_type": "stream",
     "text": [
      "n\n"
     ]
    }
   ],
   "source": [
    "print(element[-1])"
   ]
  },
  {
   "cell_type": "code",
   "execution_count": 35,
   "id": "a8e8de7c-3de2-4081-b1f5-881ae75ccb01",
   "metadata": {
    "tags": []
   },
   "outputs": [
    {
     "name": "stdout",
     "output_type": "stream",
     "text": [
      "e\n"
     ]
    }
   ],
   "source": [
    "print(element[-2])"
   ]
  },
  {
   "cell_type": "code",
   "execution_count": 36,
   "id": "f063143e-3c92-4a8d-8439-27c698b0a7b1",
   "metadata": {},
   "outputs": [
    {
     "name": "stdout",
     "output_type": "stream",
     "text": [
      "all but the first and last characters: xyge\n"
     ]
    }
   ],
   "source": [
    "print('all but the first and last characters:', element[1:-1])"
   ]
  },
  {
   "cell_type": "code",
   "execution_count": 37,
   "id": "f8135625-cbbe-446c-aac0-363b8b507fa4",
   "metadata": {},
   "outputs": [
    {
     "name": "stdout",
     "output_type": "stream",
     "text": [
      "last three characters: gen\n"
     ]
    }
   ],
   "source": [
    "print('last three characters:', element[-3:])"
   ]
  },
  {
   "cell_type": "code",
   "execution_count": 38,
   "id": "03f9d543-dbc3-4339-bab6-67cadf854dd2",
   "metadata": {},
   "outputs": [
    {
     "name": "stdout",
     "output_type": "stream",
     "text": [
      "last three characters: try\n"
     ]
    }
   ],
   "source": [
    "element = 'carpentry'\n",
    "print('last three characters:', element[-3:])"
   ]
  },
  {
   "cell_type": "code",
   "execution_count": 39,
   "id": "c14fd03f-5be7-4a01-838b-73a5e95596df",
   "metadata": {},
   "outputs": [
    {
     "name": "stdout",
     "output_type": "stream",
     "text": [
      "last three characters: one\n"
     ]
    }
   ],
   "source": [
    "element = 'clone'\n",
    "print('last three characters:', element[-3:])"
   ]
  },
  {
   "cell_type": "code",
   "execution_count": 40,
   "id": "3aacf405-ab7e-4d87-a3a6-6eeefa1310fa",
   "metadata": {},
   "outputs": [
    {
     "name": "stdout",
     "output_type": "stream",
     "text": [
      "last three characters: hi\n"
     ]
    }
   ],
   "source": [
    "element = 'hi'\n",
    "print('last three characters:', element[-3:])"
   ]
  },
  {
   "cell_type": "code",
   "execution_count": 41,
   "id": "1f10da04-27c1-4779-b54c-0acee1077d8b",
   "metadata": {},
   "outputs": [
    {
     "name": "stdout",
     "output_type": "stream",
     "text": [
      "[]\n"
     ]
    }
   ],
   "source": [
    "print(data[3:3,4:4])"
   ]
  },
  {
   "cell_type": "code",
   "execution_count": 42,
   "id": "da8a7ee3-d9fb-4305-908a-269b646ebaa3",
   "metadata": {},
   "outputs": [
    {
     "name": "stdout",
     "output_type": "stream",
     "text": [
      "array( [] , shape= (0, 40) , dtype= float64\n"
     ]
    }
   ],
   "source": [
    "print('array(',data[3:3, :],', shape=',data[3:3, :].shape,', dtype=', data.dtype)"
   ]
  },
  {
   "cell_type": "code",
   "execution_count": 43,
   "id": "1d7eb4b0-1adb-4db0-ad5d-a8625b766822",
   "metadata": {},
   "outputs": [
    {
     "name": "stdout",
     "output_type": "stream",
     "text": [
      "[]\n"
     ]
    }
   ],
   "source": [
    "print(data[3:3, :])"
   ]
  },
  {
   "cell_type": "code",
   "execution_count": 44,
   "id": "7474d76a-3bc9-48ed-85f1-85165b4f3b57",
   "metadata": {},
   "outputs": [
    {
     "name": "stdout",
     "output_type": "stream",
     "text": [
      "(0, 40)\n"
     ]
    }
   ],
   "source": [
    "print(data[3:3,:].shape)"
   ]
  },
  {
   "cell_type": "code",
   "execution_count": 45,
   "id": "c38a7cd1-33bc-41b2-bd3b-5d5a33e8552b",
   "metadata": {},
   "outputs": [
    {
     "name": "stdout",
     "output_type": "stream",
     "text": [
      "A = \n",
      "[[1 2 3]\n",
      " [4 5 6]\n",
      " [7 8 9]]\n",
      "B = \n",
      "[[1 2 3 1 2 3]\n",
      " [4 5 6 4 5 6]\n",
      " [7 8 9 7 8 9]]\n",
      "C = \n",
      "[[1 2 3]\n",
      " [4 5 6]\n",
      " [7 8 9]\n",
      " [1 2 3]\n",
      " [4 5 6]\n",
      " [7 8 9]]\n"
     ]
    }
   ],
   "source": [
    "A = numpy.array([[1,2,3], [4,5,6], [7, 8, 9]])\n",
    "print('A = ')\n",
    "print(A)\n",
    "\n",
    "B = numpy.hstack([A, A])\n",
    "print('B = ')\n",
    "print(B)\n",
    "\n",
    "C = numpy.vstack([A, A])\n",
    "print('C = ')\n",
    "print(C)"
   ]
  },
  {
   "cell_type": "code",
   "execution_count": 46,
   "id": "5a0d92d5-1484-4484-939a-167373c92a7d",
   "metadata": {},
   "outputs": [
    {
     "name": "stdout",
     "output_type": "stream",
     "text": [
      "D =\n",
      "[[1 3]\n",
      " [4 6]\n",
      " [7 9]]\n"
     ]
    }
   ],
   "source": [
    "D = numpy.hstack((A[:, :1],A[:,-1:]))\n",
    "print ('D =')\n",
    "print(D)"
   ]
  },
  {
   "cell_type": "code",
   "execution_count": 47,
   "id": "7fae0153-1711-4ec1-ad1e-773f673767ef",
   "metadata": {},
   "outputs": [
    {
     "name": "stdout",
     "output_type": "stream",
     "text": [
      "[[0. 0. 1. ... 3. 0. 0.]\n",
      " [0. 1. 2. ... 1. 0. 1.]\n",
      " [0. 1. 1. ... 2. 1. 1.]\n",
      " ...\n",
      " [0. 1. 1. ... 1. 1. 1.]\n",
      " [0. 0. 0. ... 0. 2. 0.]\n",
      " [0. 0. 1. ... 1. 1. 0.]]\n"
     ]
    }
   ],
   "source": [
    "print(data)"
   ]
  },
  {
   "cell_type": "code",
   "execution_count": 48,
   "id": "fd379b00-d59a-4755-83a1-44473ac50e73",
   "metadata": {},
   "outputs": [
    {
     "name": "stdout",
     "output_type": "stream",
     "text": [
      "[0. 0. 2. 0. 4. 2. 2.]\n"
     ]
    }
   ],
   "source": [
    "patient3_week1 = data[3, :7]\n",
    "print(patient3_week1)"
   ]
  },
  {
   "cell_type": "code",
   "execution_count": 49,
   "id": "573f2b96-1a37-4c66-ad4c-c44e6191ba1f",
   "metadata": {},
   "outputs": [
    {
     "data": {
      "text/plain": [
       "array([ 0.,  2., -2.,  4., -2.,  0.])"
      ]
     },
     "execution_count": 49,
     "metadata": {},
     "output_type": "execute_result"
    }
   ],
   "source": [
    "numpy.diff(patient3_week1)"
   ]
  },
  {
   "cell_type": "code",
   "execution_count": 50,
   "id": "d4bcb9ab-96a7-4daa-8a3b-9292e80333db",
   "metadata": {},
   "outputs": [
    {
     "data": {
      "text/plain": [
       "array([[ 0.,  1.,  2., ...,  1., -3.,  0.],\n",
       "       [ 1.,  1., -1., ...,  0., -1.,  1.],\n",
       "       [ 1.,  0.,  2., ...,  0., -1.,  0.],\n",
       "       ...,\n",
       "       [ 1.,  0.,  0., ..., -1.,  0.,  0.],\n",
       "       [ 0.,  0.,  1., ..., -2.,  2., -2.],\n",
       "       [ 0.,  1., -1., ..., -2.,  0., -1.]])"
      ]
     },
     "execution_count": 50,
     "metadata": {},
     "output_type": "execute_result"
    }
   ],
   "source": [
    "numpy.diff(data, axis=1)"
   ]
  },
  {
   "cell_type": "code",
   "execution_count": 51,
   "id": "de14116f-2ce3-4d63-8c55-78dacee9b988",
   "metadata": {},
   "outputs": [
    {
     "data": {
      "text/plain": [
       "array([ 7., 12., 11., 10., 11., 13., 10.,  8., 10., 10.,  7.,  7., 13.,\n",
       "        7., 10., 10.,  8., 10.,  9., 10., 13.,  7., 12.,  9., 12., 11.,\n",
       "       10., 10.,  7., 10., 11., 10.,  8., 11., 12., 10.,  9., 10., 13.,\n",
       "       10.,  7.,  7., 10., 13., 12.,  8.,  8., 10., 10.,  9.,  8., 13.,\n",
       "       10.,  7., 10.,  8., 12., 10.,  7., 12.])"
      ]
     },
     "execution_count": 51,
     "metadata": {},
     "output_type": "execute_result"
    }
   ],
   "source": [
    "diffarray = numpy.diff(data, axis=1)\n",
    "numpy.amax(numpy.diff(data,axis=1),axis=1)\n"
   ]
  },
  {
   "cell_type": "code",
   "execution_count": 52,
   "id": "f541fc06-bbc7-46ec-ab99-d1f1a0654308",
   "metadata": {},
   "outputs": [
    {
     "data": {
      "text/plain": [
       "array([12., 14., 11., 13., 11., 13., 10., 12., 10., 10., 10., 12., 13.,\n",
       "       10., 11., 10., 12., 13.,  9., 10., 13.,  9., 12.,  9., 12., 11.,\n",
       "       10., 13.,  9., 13., 11., 11.,  8., 11., 12., 13.,  9., 10., 13.,\n",
       "       11., 11., 13., 11., 13., 13., 10.,  9., 10., 10.,  9.,  9., 13.,\n",
       "       10.,  9., 10., 11., 13., 10., 10., 12.])"
      ]
     },
     "execution_count": 52,
     "metadata": {},
     "output_type": "execute_result"
    }
   ],
   "source": [
    "numpy.amax(numpy.absolute(numpy.diff(data,axis=1)), axis=1)\n"
   ]
  },
  {
   "cell_type": "raw",
   "id": "fcecaeee-2aa6-4d26-99f5-2add1e437faa",
   "metadata": {},
   "source": []
  },
  {
   "cell_type": "code",
   "execution_count": 53,
   "id": "7d83c49c-9ff6-40a4-9243-b361cc5650ed",
   "metadata": {},
   "outputs": [
    {
     "name": "stdout",
     "output_type": "stream",
     "text": [
      "(60, 39)\n"
     ]
    }
   ],
   "source": [
    "print(diffarray.shape)"
   ]
  },
  {
   "cell_type": "code",
   "execution_count": 54,
   "id": "e537ee39-cefa-4ea9-a743-22ed3773d2ca",
   "metadata": {},
   "outputs": [
    {
     "name": "stdout",
     "output_type": "stream",
     "text": [
      "13.0\n"
     ]
    }
   ],
   "source": [
    "maxdiff = numpy.amax(diffarray)\n",
    "print(maxdiff)"
   ]
  },
  {
   "cell_type": "code",
   "execution_count": null,
   "id": "1f9fe5b4-17a0-483a-8463-731018569c45",
   "metadata": {},
   "outputs": [],
   "source": []
  },
  {
   "cell_type": "code",
   "execution_count": null,
   "id": "121b0fdd-12c2-4761-a87b-7e920d71c6df",
   "metadata": {},
   "outputs": [],
   "source": []
  },
  {
   "cell_type": "code",
   "execution_count": 58,
   "id": "e603cd7e-4075-43eb-84f3-f6875411e817",
   "metadata": {},
   "outputs": [
    {
     "data": {
      "image/png": "[encoded data removed]",
      "text/plain": [
       "<Figure size 640x480 with 1 Axes>"
      ]
     },
     "metadata": {},
     "output_type": "display_data"
    }
   ],
   "source": [
    "import matplotlib.pyplot as plt\n",
    "image = plt.imshow(data)\n",
    "plt.savefig('sample.png')\n",
    "plt.show() #yellow high flareup counts, blue = low count"
   ]
  },
  {
   "cell_type": "code",
   "execution_count": 57,
   "id": "c1d4373f-e2af-44c7-86e2-d273ee0197b1",
   "metadata": {},
   "outputs": [
    {
     "data": {
      "text/plain": [
       "<Figure size 640x480 with 0 Axes>"
      ]
     },
     "metadata": {},
     "output_type": "display_data"
    }
   ],
   "source": []
  },
  {
   "cell_type": "code",
   "execution_count": null,
   "id": "b68f198f-3923-464f-b30a-845876e8be1b",
   "metadata": {},
   "outputs": [],
   "source": []
  }
 ],
 "metadata": {
  "kernelspec": {
   "display_name": "Python 3 (ipykernel)",
   "language": "python",
   "name": "python3"
  },
  "language_info": {
   "codemirror_mode": {
    "name": "ipython",
    "version": 3
   },
   "file_extension": ".py",
   "mimetype": "text/x-python",
   "name": "python",
   "nbconvert_exporter": "python",
   "pygments_lexer": "ipython3",
   "version": "3.8.15"
  }
 },
 "nbformat": 4,
 "nbformat_minor": 5
}
